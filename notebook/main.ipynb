{
 "cells": [
  {
   "cell_type": "code",
   "execution_count": 1,
   "metadata": {},
   "outputs": [
    {
     "name": "stderr",
     "output_type": "stream",
     "text": [
      "c:\\Users\\Dell\\miniconda3\\envs\\langchain\\lib\\site-packages\\sentence_transformers\\cross_encoder\\CrossEncoder.py:13: TqdmWarning: IProgress not found. Please update jupyter and ipywidgets. See https://ipywidgets.readthedocs.io/en/stable/user_install.html\n",
      "  from tqdm.autonotebook import tqdm, trange\n"
     ]
    }
   ],
   "source": [
    "from langchain.document_loaders import PyPDFLoader\n",
    "from sentence_transformers import SentenceTransformer\n",
    "import faiss\n",
    "import torch\n",
    "import re\n",
    "import nest_asyncio"
   ]
  },
  {
   "cell_type": "code",
   "execution_count": 2,
   "metadata": {},
   "outputs": [],
   "source": [
    "# Function to split text into chunks of specified size with overlap\n",
    "def split_text_with_overlap(text, chunk_size=450, overlap=50):\n",
    "    words = text.split()\n",
    "    chunks = []\n",
    "\n",
    "\n",
    "    for i in range(0, len(words), chunk_size - overlap):\n",
    "        chunk = words[i:i + chunk_size]\n",
    "        chunks.append(\" \".join(chunk))\n",
    "    return chunks"
   ]
  },
  {
   "cell_type": "code",
   "execution_count": 3,
   "metadata": {},
   "outputs": [],
   "source": [
    "nest_asyncio.apply()\n",
    "\n",
    "\n",
    "pdf_path = \"../data/GOT_synopsis.pdf\"\n",
    "loader = PyPDFLoader(pdf_path)\n",
    "docs = loader.load()\n",
    "full_text = \" \".join([doc.page_content for doc in docs])\n",
    "doc_texts = split_text_with_overlap(full_text, chunk_size=90, overlap=20)"
   ]
  },
  {
   "cell_type": "code",
   "execution_count": 4,
   "metadata": {},
   "outputs": [],
   "source": [
    "with open(\"../data/doc_texts.txt\", \"w\") as f:\n",
    "    for chunk in doc_texts:\n",
    "        f.write(chunk + \"\\n\")"
   ]
  },
  {
   "cell_type": "code",
   "execution_count": 4,
   "metadata": {},
   "outputs": [],
   "source": [
    "\n",
    "model = SentenceTransformer('all-mpnet-base-v2')\n",
    "embeddings = model.encode(doc_texts)"
   ]
  },
  {
   "cell_type": "code",
   "execution_count": 5,
   "metadata": {},
   "outputs": [],
   "source": [
    "model.save('../models/sentence_embedding_model')"
   ]
  },
  {
   "cell_type": "code",
   "execution_count": 6,
   "metadata": {},
   "outputs": [],
   "source": [
    "\n",
    "index = faiss.IndexFlatL2(embeddings.shape[1])\n",
    "index.add(embeddings)  # Add vectors to the index"
   ]
  },
  {
   "cell_type": "code",
   "execution_count": 7,
   "metadata": {},
   "outputs": [],
   "source": [
    "faiss.write_index(index, '../models/faiss_index_file.index')"
   ]
  },
  {
   "cell_type": "code",
   "execution_count": 8,
   "metadata": {},
   "outputs": [],
   "source": [
    "#to import the saved index\n",
    "index = faiss.read_index('../models/faiss_index_file.index')"
   ]
  },
  {
   "cell_type": "code",
   "execution_count": 8,
   "metadata": {},
   "outputs": [],
   "source": [
    "sentence_embedding_model = SentenceTransformer('../models/sentence_embedding_model')"
   ]
  },
  {
   "cell_type": "code",
   "execution_count": 9,
   "metadata": {},
   "outputs": [],
   "source": [
    "query = '''To whom did the Petyr Baelish gave the Valeryian steel dagger ?'''\n",
    "query_vector = sentence_embedding_model.encode([query])\n",
    "#D, I = index.search(query_vector, k=4)\n",
    "#relevant_texts = [doc_texts[i] for i in I[0]]\n",
    "#merged_text = \" \".join(relevant_texts)\n",
    "_, I = index.search(query_vector, k=4)\n",
    "merged_text = \" \".join([doc_texts[i] for i in I[0]])"
   ]
  },
  {
   "cell_type": "code",
   "execution_count": 10,
   "metadata": {},
   "outputs": [
    {
     "name": "stdout",
     "output_type": "stream",
     "text": [
      "a cash reward but wants more. Jaime orders Bronn to help the Tarly's round up food from the local farmers. The Iron Bank rep thanks Cersei for the gold repayment, on its way. He suggests future deals and their support. She plans on deals with Essos. Petyr Baelish sits with Bran and gives him the Valeryian steel dagger that kill ed his mother, but doesn't know who owned it. Baelish promises support but is stopped by a cryptic comment, \"chaos is a ladder\", Littlefinger had used that phrase in private up with a knife to his throat -- it's Petyr. \"I did warn you not to trust me,\" Petyr says. S1, Ep8 The Pointy End • Arya practices her swordplay while real swordplay spills out of the throne room after Cersei and Joffrey tried to claim the throne. The fighting heads into the courtyard, where Cersei's men kill anyone who gets in their way. Sansa goes looking for her sist er, but her nursemaid hears the fighting and sends Sansa to her room with strict instructions not to open the a room full of soldiers. Sansa then accuses Littlefinger of murder and treason. Stunned, he attemp ts to talk himself out of trouble. Sansa points out Baelish killed Lady Arryn and conspired to kill Ned Stark. Desperate, Baelish begs for his life, on his knees, Arya slashes his throat with the Valerian dagger. Cersei interrupts Jaime organizing his Gen erals, she reveals the truce was a ruse, she has no intent to support Dany and Jon. Jaime is furious. Cersei suspects something happened to one dragon and refers to a Lannisters are behind this, since they already have reason to suspect their loyalty. Rodrik shows them the dagger the assassin used, which wa s Valaryian Steel, too expensive and rare for such a man to wield. Catelyn tells them that she will ride to King's Landing to tell Ned about what happened. Robb offers to go in her stead, but she tells him that \"there must always be a Stark in Winterfell.\" Ser Rodrik offers to go with her, and she agrees. When Robb asks her about Bran, she says\n"
     ]
    }
   ],
   "source": [
    "print(merged_text)"
   ]
  },
  {
   "cell_type": "code",
   "execution_count": 11,
   "metadata": {},
   "outputs": [
    {
     "name": "stderr",
     "output_type": "stream",
     "text": [
      "Some weights of the model checkpoint at bert-large-uncased-whole-word-masking-finetuned-squad were not used when initializing BertForQuestionAnswering: ['bert.pooler.dense.bias', 'bert.pooler.dense.weight']\n",
      "- This IS expected if you are initializing BertForQuestionAnswering from the checkpoint of a model trained on another task or with another architecture (e.g. initializing a BertForSequenceClassification model from a BertForPreTraining model).\n",
      "- This IS NOT expected if you are initializing BertForQuestionAnswering from the checkpoint of a model that you expect to be exactly identical (initializing a BertForSequenceClassification model from a BertForSequenceClassification model).\n"
     ]
    }
   ],
   "source": [
    "\n",
    "from transformers import BertForQuestionAnswering\n",
    "from transformers import BertTokenizer\n",
    "\n",
    "#Model\n",
    "model = BertForQuestionAnswering.from_pretrained('bert-large-uncased-whole-word-masking-finetuned-squad')\n",
    "\n",
    "#Tokenizer\n",
    "tokenizer = BertTokenizer.from_pretrained('bert-large-uncased-whole-word-masking-finetuned-squad')"
   ]
  },
  {
   "cell_type": "code",
   "execution_count": 12,
   "metadata": {},
   "outputs": [
    {
     "data": {
      "text/plain": [
       "('../models/Q&A_tokenizer\\\\tokenizer_config.json',\n",
       " '../models/Q&A_tokenizer\\\\special_tokens_map.json',\n",
       " '../models/Q&A_tokenizer\\\\vocab.txt',\n",
       " '../models/Q&A_tokenizer\\\\added_tokens.json')"
      ]
     },
     "execution_count": 12,
     "metadata": {},
     "output_type": "execute_result"
    }
   ],
   "source": [
    "model.save_pretrained('../models/Q&A_model')\n",
    "tokenizer.save_pretrained('../models/Q&A_tokenizer')"
   ]
  },
  {
   "cell_type": "code",
   "execution_count": 13,
   "metadata": {},
   "outputs": [],
   "source": [
    "#import the model\n",
    "QA_model = BertForQuestionAnswering.from_pretrained('../models/Q&A_model')\n",
    "QA_tokenizer = BertTokenizer.from_pretrained('../models/Q&A_tokenizer')"
   ]
  },
  {
   "cell_type": "code",
   "execution_count": 14,
   "metadata": {},
   "outputs": [],
   "source": [
    "question = query\n",
    "\n",
    "paragraph = merged_text\n",
    "encoding = QA_tokenizer.encode_plus(text=question,text_pair=paragraph)\n",
    "\n",
    "inputs = encoding['input_ids']  #Token embeddings\n",
    "sentence_embedding = encoding['token_type_ids']  #Segment embeddings\n",
    "tokens = QA_tokenizer.convert_ids_to_tokens(inputs) #input tokens"
   ]
  },
  {
   "cell_type": "code",
   "execution_count": 15,
   "metadata": {},
   "outputs": [
    {
     "name": "stdout",
     "output_type": "stream",
     "text": [
      "To whom did the Petyr Baelish gave the Valeryian steel dagger ?\n",
      "a cash reward but wants more. Jaime orders Bronn to help the Tarly's round up food from the local farmers. The Iron Bank rep thanks Cersei for the gold repayment, on its way. He suggests future deals and their support. She plans on deals with Essos. Petyr Baelish sits with Bran and gives him the Valeryian steel dagger that kill ed his mother, but doesn't know who owned it. Baelish promises support but is stopped by a cryptic comment, \"chaos is a ladder\", Littlefinger had used that phrase in private up with a knife to his throat -- it's Petyr. \"I did warn you not to trust me,\" Petyr says. S1, Ep8 The Pointy End • Arya practices her swordplay while real swordplay spills out of the throne room after Cersei and Joffrey tried to claim the throne. The fighting heads into the courtyard, where Cersei's men kill anyone who gets in their way. Sansa goes looking for her sist er, but her nursemaid hears the fighting and sends Sansa to her room with strict instructions not to open the a room full of soldiers. Sansa then accuses Littlefinger of murder and treason. Stunned, he attemp ts to talk himself out of trouble. Sansa points out Baelish killed Lady Arryn and conspired to kill Ned Stark. Desperate, Baelish begs for his life, on his knees, Arya slashes his throat with the Valerian dagger. Cersei interrupts Jaime organizing his Gen erals, she reveals the truce was a ruse, she has no intent to support Dany and Jon. Jaime is furious. Cersei suspects something happened to one dragon and refers to a Lannisters are behind this, since they already have reason to suspect their loyalty. Rodrik shows them the dagger the assassin used, which wa s Valaryian Steel, too expensive and rare for such a man to wield. Catelyn tells them that she will ride to King's Landing to tell Ned about what happened. Robb offers to go in her stead, but she tells him that \"there must always be a Stark in Winterfell.\" Ser Rodrik offers to go with her, and she agrees. When Robb asks her about Bran, she says\n"
     ]
    }
   ],
   "source": [
    "print(question)\n",
    "print(paragraph)"
   ]
  },
  {
   "cell_type": "code",
   "execution_count": 16,
   "metadata": {},
   "outputs": [],
   "source": [
    "start_scores = QA_model(input_ids=torch.tensor([inputs]), token_type_ids=torch.tensor([sentence_embedding]))['start_logits']\n",
    "end_scores = QA_model(input_ids=torch.tensor([inputs]), token_type_ids=torch.tensor([sentence_embedding]))['end_logits']"
   ]
  },
  {
   "cell_type": "code",
   "execution_count": 17,
   "metadata": {},
   "outputs": [],
   "source": [
    "start_index = torch.argmax(start_scores)\n",
    "\n",
    "end_index = torch.argmax(end_scores)\n",
    "\n",
    "answer = ' '.join(tokens[start_index:end_index+1])"
   ]
  },
  {
   "cell_type": "code",
   "execution_count": 18,
   "metadata": {},
   "outputs": [
    {
     "name": "stdout",
     "output_type": "stream",
     "text": [
      "bran\n"
     ]
    }
   ],
   "source": [
    "print(answer)"
   ]
  },
  {
   "cell_type": "code",
   "execution_count": null,
   "metadata": {},
   "outputs": [],
   "source": []
  }
 ],
 "metadata": {
  "kernelspec": {
   "display_name": "Python (langchain)",
   "language": "python",
   "name": "langchain"
  },
  "language_info": {
   "codemirror_mode": {
    "name": "ipython",
    "version": 3
   },
   "file_extension": ".py",
   "mimetype": "text/x-python",
   "name": "python",
   "nbconvert_exporter": "python",
   "pygments_lexer": "ipython3",
   "version": "3.9.20"
  }
 },
 "nbformat": 4,
 "nbformat_minor": 2
}
